{
 "cells": [
  {
   "cell_type": "markdown",
   "id": "fe60e691",
   "metadata": {},
   "source": [
    "# Simple Linear Regression Example  \n",
    "**Week 1 - AI For Everyone (Andrew Ng)**  \n",
    "\n",
    "This notebook demonstrates a basic linear regression using `sklearn`.  \n",
    "Author: Abera Hilut Teshale\n"
   ]
  },
  {
   "cell_type": "code",
   "execution_count": null,
   "id": "319fced3",
   "metadata": {},
   "outputs": [],
   "source": [
    "import numpy as np\n",
    "import matplotlib.pyplot as plt\n",
    "from sklearn.linear_model import LinearRegression\n",
    "\n",
    "# X = study hours, y = exam scores\n",
    "X = np.array([1, 2, 3, 4, 5, 6]).reshape(-1, 1)\n",
    "y = np.array([10, 20, 30, 40, 50, 60])\n"
   ]
  },
  {
   "cell_type": "code",
   "execution_count": null,
   "id": "d077a6e8",
   "metadata": {},
   "outputs": [],
   "source": [
    "model = LinearRegression()\n",
    "model.fit(X, y)\n",
    "\n",
    "y_pred = model.predict(X)\n",
    "\n",
    "print(\"Coefficient (slope):\", model.coef_[0])\n",
    "print(\"Intercept:\", model.intercept_)\n"
   ]
  },
  {
   "cell_type": "code",
   "execution_count": null,
   "id": "0b98b5ba",
   "metadata": {},
   "outputs": [],
   "source": [
    "plt.scatter(X, y, color=\"blue\", label=\"Data points\")\n",
    "plt.plot(X, y_pred, color=\"red\", label=\"Regression line\")\n",
    "plt.xlabel(\"Study Hours\")\n",
    "plt.ylabel(\"Exam Score\")\n",
    "plt.legend()\n",
    "plt.show()\n"
   ]
  },
  {
   "cell_type": "markdown",
   "id": "840f05a7",
   "metadata": {},
   "source": []
  }
 ],
 "metadata": {
  "language_info": {
   "name": "python"
  }
 },
 "nbformat": 4,
 "nbformat_minor": 5
}
